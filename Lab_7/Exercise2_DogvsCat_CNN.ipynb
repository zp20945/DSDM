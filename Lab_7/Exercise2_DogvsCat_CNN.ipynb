{
  "nbformat": 4,
  "nbformat_minor": 0,
  "metadata": {
    "colab": {
      "name": "Exercise2_DogvsCat_CNN.ipynb",
      "provenance": [],
      "authorship_tag": "ABX9TyPFPxfQQoyA0bjZqXQHPjmq",
      "include_colab_link": true
    },
    "kernelspec": {
      "name": "python3",
      "display_name": "Python 3"
    },
    "language_info": {
      "name": "python"
    }
  },
  "cells": [
    {
      "cell_type": "markdown",
      "metadata": {
        "id": "view-in-github",
        "colab_type": "text"
      },
      "source": [
        "<a href=\"https://colab.research.google.com/github/zp20945/DSDM/blob/main/Lab_7/Exercise2_DogvsCat_CNN.ipynb\" target=\"_parent\"><img src=\"https://colab.research.google.com/assets/colab-badge.svg\" alt=\"Open In Colab\"/></a>"
      ]
    },
    {
      "cell_type": "code",
      "metadata": {
        "colab": {
          "base_uri": "https://localhost:8080/"
        },
        "id": "rdgEMOAdAEeF",
        "outputId": "5d4ee395-f1d4-46c6-e577-6cff50ae2769"
      },
      "source": [
        "import os\n",
        "os.environ['KAGGLE_USERNAME'] = \"zeelpansara\" # username from the json file\n",
        "os.environ['KAGGLE_KEY'] = \"0591cec65c57fdeaa3514d01229c9940\" # key from the json file\n",
        "!kaggle competitions download -c dogs-vs-cats # api copied from kaggle (https://www.kaggle.com/c/dogs-vs-cats/data)"
      ],
      "execution_count": 1,
      "outputs": [
        {
          "output_type": "stream",
          "text": [
            "Warning: Looks like you're using an outdated API Version, please consider updating (server 1.5.12 / client 1.5.4)\n",
            "Downloading train.zip to /content\n",
            " 99% 538M/543M [00:03<00:00, 170MB/s]\n",
            "100% 543M/543M [00:03<00:00, 177MB/s]\n",
            "Downloading test1.zip to /content\n",
            " 97% 264M/271M [00:01<00:00, 164MB/s]\n",
            "100% 271M/271M [00:01<00:00, 175MB/s]\n",
            "Downloading sampleSubmission.csv to /content\n",
            "  0% 0.00/86.8k [00:00<?, ?B/s]\n",
            "100% 86.8k/86.8k [00:00<00:00, 82.8MB/s]\n"
          ],
          "name": "stdout"
        }
      ]
    },
    {
      "cell_type": "code",
      "metadata": {
        "colab": {
          "base_uri": "https://localhost:8080/"
        },
        "id": "02bA9uaVAKw6",
        "outputId": "9ea8a8b9-64a6-4fde-b00c-514f9a45f2e4"
      },
      "source": [
        "# Unzip training data\n",
        "from zipfile import ZipFile\n",
        "file_name = \"/content/train.zip\"\n",
        "with ZipFile(file_name, 'r') as zip:\n",
        "  zip.extractall()\n",
        "  print('done')"
      ],
      "execution_count": 2,
      "outputs": [
        {
          "output_type": "stream",
          "text": [
            "done\n"
          ],
          "name": "stdout"
        }
      ]
    },
    {
      "cell_type": "code",
      "metadata": {
        "colab": {
          "base_uri": "https://localhost:8080/"
        },
        "id": "jXMo3XY7APh6",
        "outputId": "b917fcaa-32ee-433d-cf90-5594b5ccf730"
      },
      "source": [
        "# Get all the paths\n",
        "data_dir_list = os.listdir('/content/train')\n",
        "#print(data_dir_list)\n",
        "path, dirs, files = next(os.walk(\"/content/train\"))\n",
        "file_count = len(files)\n",
        "print(file_count)"
      ],
      "execution_count": 3,
      "outputs": [
        {
          "output_type": "stream",
          "text": [
            "25000\n"
          ],
          "name": "stdout"
        }
      ]
    },
    {
      "cell_type": "code",
      "metadata": {
        "id": "04uepLZvATHp"
      },
      "source": [
        "# Make new base directory\n",
        "original_dataset_dir = '/content/train'\n",
        "base_dir = '/content/cats_and_dogs_small'\n",
        "os.mkdir(base_dir)"
      ],
      "execution_count": 4,
      "outputs": []
    },
    {
      "cell_type": "code",
      "metadata": {
        "id": "EwwGKOEPAWbU"
      },
      "source": [
        "train_dir = os.path.join(base_dir, 'train')\n",
        "os.mkdir(train_dir)\n",
        "\n",
        "validation_dir = os.path.join(base_dir, 'validation')\n",
        "os.mkdir(validation_dir)\n",
        "\n",
        "test_dir = os.path.join(base_dir, 'test')\n",
        "os.mkdir(test_dir)\n",
        "\n",
        "train_cats_dir = os.path.join(train_dir, 'cats')\n",
        "os.mkdir(train_cats_dir)\n",
        "\n",
        "train_dogs_dir = os.path.join(train_dir, 'dogs')\n",
        "os.mkdir(train_dogs_dir)\n",
        "\n",
        "validation_cats_dir = os.path.join(validation_dir, 'cats')\n",
        "os.mkdir(validation_cats_dir)\n",
        "\n",
        "validation_dogs_dir = os.path.join(validation_dir, 'dogs')\n",
        "os.mkdir(validation_dogs_dir)\n",
        "\n",
        "test_cats_dir = os.path.join(test_dir, 'cats')\n",
        "os.mkdir(test_cats_dir)\n",
        "\n",
        "test_dogs_dir = os.path.join(test_dir, 'dogs')\n",
        "os.mkdir(test_dogs_dir)"
      ],
      "execution_count": 5,
      "outputs": []
    },
    {
      "cell_type": "code",
      "metadata": {
        "id": "oB3MBYbbAcuT"
      },
      "source": [
        "import shutil\n",
        "fnames = ['cat.{}.jpg'.format(i) for i in range(1000)]\n",
        "for fname in fnames:\n",
        "    src = os.path.join(original_dataset_dir, fname)\n",
        "    dst = os.path.join(train_cats_dir, fname)\n",
        "    #print(src,dst)\n",
        "    shutil.copyfile(src, dst)\n",
        "    \n",
        "fnames = ['cat.{}.jpg'.format(i) for i in range(1000, 1500)]\n",
        "for fname in fnames:\n",
        "    src = os.path.join(original_dataset_dir, fname)\n",
        "    dst = os.path.join(validation_cats_dir, fname)\n",
        "    shutil.copyfile(src, dst)\n",
        "\n",
        "fnames = ['cat.{}.jpg'.format(i) for i in range(1500, 2000)]\n",
        "for fname in fnames:\n",
        "    src = os.path.join(original_dataset_dir, fname)\n",
        "    dst = os.path.join(test_cats_dir, fname)\n",
        "    shutil.copyfile(src, dst)\n",
        "    \n",
        "fnames = ['dog.{}.jpg'.format(i) for i in range(1000)]\n",
        "for fname in fnames:\n",
        "    src = os.path.join(original_dataset_dir, fname)\n",
        "    dst = os.path.join(train_dogs_dir, fname)\n",
        "    shutil.copyfile(src, dst)\n",
        "\n",
        "fnames = ['dog.{}.jpg'.format(i) for i in range(1000, 1500)]\n",
        "for fname in fnames:\n",
        "    src = os.path.join(original_dataset_dir, fname)\n",
        "    dst = os.path.join(validation_dogs_dir, fname)\n",
        "    shutil.copyfile(src, dst)\n",
        "\n",
        "fnames = ['dog.{}.jpg'.format(i) for i in range(1500, 2000)]\n",
        "for fname in fnames:\n",
        "    src = os.path.join(original_dataset_dir, fname)\n",
        "    dst = os.path.join(test_dogs_dir, fname)\n",
        "    shutil.copyfile(src, dst)"
      ],
      "execution_count": 6,
      "outputs": []
    },
    {
      "cell_type": "code",
      "metadata": {
        "colab": {
          "base_uri": "https://localhost:8080/"
        },
        "id": "zve26iLLAfjX",
        "outputId": "aa8e1aea-1ca5-4fb4-f2b8-5f17bee4d617"
      },
      "source": [
        "print('total training cat images:', len(os.listdir(train_cats_dir)))\n",
        "print('total training dog images:', len(os.listdir(train_dogs_dir)))\n",
        "print('total validation cat images:', len(os.listdir(validation_cats_dir)))\n",
        "\n",
        "print('total validation dog images:', len(os.listdir(validation_dogs_dir)))\n",
        "print('total test cat images:', len(os.listdir(test_cats_dir)))\n",
        "print('total test dog images:', len(os.listdir(test_dogs_dir)))"
      ],
      "execution_count": 7,
      "outputs": [
        {
          "output_type": "stream",
          "text": [
            "total training cat images: 1000\n",
            "total training dog images: 1000\n",
            "total validation cat images: 500\n",
            "total validation dog images: 500\n",
            "total test cat images: 500\n",
            "total test dog images: 500\n"
          ],
          "name": "stdout"
        }
      ]
    },
    {
      "cell_type": "code",
      "metadata": {
        "colab": {
          "base_uri": "https://localhost:8080/"
        },
        "id": "Is5nNWN0AjVw",
        "outputId": "8551b981-b8b8-4af3-eda6-2cc4f236e02d"
      },
      "source": [
        "from keras import layers\n",
        "from keras import models\n",
        "\n",
        "model = models.Sequential()\n",
        "model.add(layers.Conv2D(32, (3, 3), activation='relu', input_shape=(210, 210, 3)))\n",
        "model.add(layers.MaxPooling2D((2, 2)))\n",
        "model.add(layers.Conv2D(64, (3, 3), activation='relu'))\n",
        "model.add(layers.MaxPooling2D((2, 2)))\n",
        "model.add(layers.Conv2D(128, (3, 3), activation='relu'))\n",
        "model.add(layers.MaxPooling2D((2, 2)))\n",
        "model.add(layers.Conv2D(128, (3, 3), activation='relu'))\n",
        "model.add(layers.MaxPooling2D((2, 2)))\n",
        "model.add(layers.Flatten())\n",
        "model.add(layers.Dense(512, activation='relu'))\n",
        "model.add(layers.Dense(1, activation='sigmoid'))\n",
        "model.summary()"
      ],
      "execution_count": 8,
      "outputs": [
        {
          "output_type": "stream",
          "text": [
            "Model: \"sequential\"\n",
            "_________________________________________________________________\n",
            "Layer (type)                 Output Shape              Param #   \n",
            "=================================================================\n",
            "conv2d (Conv2D)              (None, 208, 208, 32)      896       \n",
            "_________________________________________________________________\n",
            "max_pooling2d (MaxPooling2D) (None, 104, 104, 32)      0         \n",
            "_________________________________________________________________\n",
            "conv2d_1 (Conv2D)            (None, 102, 102, 64)      18496     \n",
            "_________________________________________________________________\n",
            "max_pooling2d_1 (MaxPooling2 (None, 51, 51, 64)        0         \n",
            "_________________________________________________________________\n",
            "conv2d_2 (Conv2D)            (None, 49, 49, 128)       73856     \n",
            "_________________________________________________________________\n",
            "max_pooling2d_2 (MaxPooling2 (None, 24, 24, 128)       0         \n",
            "_________________________________________________________________\n",
            "conv2d_3 (Conv2D)            (None, 22, 22, 128)       147584    \n",
            "_________________________________________________________________\n",
            "max_pooling2d_3 (MaxPooling2 (None, 11, 11, 128)       0         \n",
            "_________________________________________________________________\n",
            "flatten (Flatten)            (None, 15488)             0         \n",
            "_________________________________________________________________\n",
            "dense (Dense)                (None, 512)               7930368   \n",
            "_________________________________________________________________\n",
            "dense_1 (Dense)              (None, 1)                 513       \n",
            "=================================================================\n",
            "Total params: 8,171,713\n",
            "Trainable params: 8,171,713\n",
            "Non-trainable params: 0\n",
            "_________________________________________________________________\n"
          ],
          "name": "stdout"
        }
      ]
    },
    {
      "cell_type": "code",
      "metadata": {
        "id": "4SeT3DX7ApS7"
      },
      "source": [
        "from keras import optimizers\n",
        "model.compile(loss='binary_crossentropy', \n",
        "              optimizer=optimizers.RMSprop(lr=1e-4),\n",
        "              metrics=['acc'])"
      ],
      "execution_count": 9,
      "outputs": []
    },
    {
      "cell_type": "code",
      "metadata": {
        "colab": {
          "base_uri": "https://localhost:8080/"
        },
        "id": "k5cc0i-HAtu4",
        "outputId": "e8da31ab-23a1-4e3e-87ec-27fc12789205"
      },
      "source": [
        "from keras.preprocessing.image import ImageDataGenerator\n",
        "\n",
        "train_datagen = ImageDataGenerator(rescale=1./255)\n",
        "test_datagen = ImageDataGenerator(rescale=1./255)\n",
        "\n",
        "train_generator = train_datagen.flow_from_directory(train_dir,\n",
        "                                                    target_size=(210, 210), \n",
        "                                                    batch_size=20,\n",
        "                                                    class_mode='binary')\n",
        "\n",
        "validation_generator = test_datagen.flow_from_directory(validation_dir,\n",
        "                                                        target_size=(210, 210),\n",
        "                                                        batch_size=20,\n",
        "                                                        class_mode='binary')"
      ],
      "execution_count": 10,
      "outputs": [
        {
          "output_type": "stream",
          "text": [
            "Found 2000 images belonging to 2 classes.\n",
            "Found 1000 images belonging to 2 classes.\n"
          ],
          "name": "stdout"
        }
      ]
    },
    {
      "cell_type": "code",
      "metadata": {
        "colab": {
          "base_uri": "https://localhost:8080/"
        },
        "id": "eCy6E1JMA2XB",
        "outputId": "38457212-1834-4867-8d89-f8eb52847d88"
      },
      "source": [
        "history = model.fit_generator(train_generator,\n",
        "                              steps_per_epoch=100,\n",
        "                              epochs=30,\n",
        "                              validation_data=validation_generator,\n",
        "                              validation_steps=10)"
      ],
      "execution_count": 11,
      "outputs": [
        {
          "output_type": "stream",
          "text": [
            "/usr/local/lib/python3.7/dist-packages/tensorflow/python/keras/engine/training.py:1844: UserWarning: `Model.fit_generator` is deprecated and will be removed in a future version. Please use `Model.fit`, which supports generators.\n",
            "  warnings.warn('`Model.fit_generator` is deprecated and '\n"
          ],
          "name": "stderr"
        },
        {
          "output_type": "stream",
          "text": [
            "Epoch 1/30\n",
            "100/100 [==============================] - 183s 2s/step - loss: 0.7045 - acc: 0.5333 - val_loss: 0.6747 - val_acc: 0.6100\n",
            "Epoch 2/30\n",
            "100/100 [==============================] - 181s 2s/step - loss: 0.6455 - acc: 0.6344 - val_loss: 0.6310 - val_acc: 0.6500\n",
            "Epoch 3/30\n",
            "100/100 [==============================] - 181s 2s/step - loss: 0.5857 - acc: 0.6891 - val_loss: 0.6157 - val_acc: 0.6700\n",
            "Epoch 4/30\n",
            "100/100 [==============================] - 183s 2s/step - loss: 0.5420 - acc: 0.7154 - val_loss: 0.6357 - val_acc: 0.6100\n",
            "Epoch 5/30\n",
            "100/100 [==============================] - 182s 2s/step - loss: 0.4887 - acc: 0.7530 - val_loss: 0.6738 - val_acc: 0.6100\n",
            "Epoch 6/30\n",
            "100/100 [==============================] - 182s 2s/step - loss: 0.4735 - acc: 0.7683 - val_loss: 0.6183 - val_acc: 0.6950\n",
            "Epoch 7/30\n",
            "100/100 [==============================] - 182s 2s/step - loss: 0.4539 - acc: 0.7816 - val_loss: 0.6063 - val_acc: 0.6650\n",
            "Epoch 8/30\n",
            "100/100 [==============================] - 182s 2s/step - loss: 0.4049 - acc: 0.8187 - val_loss: 0.6897 - val_acc: 0.6700\n",
            "Epoch 9/30\n",
            "100/100 [==============================] - 181s 2s/step - loss: 0.3862 - acc: 0.8256 - val_loss: 0.5744 - val_acc: 0.7000\n",
            "Epoch 10/30\n",
            "100/100 [==============================] - 182s 2s/step - loss: 0.3505 - acc: 0.8327 - val_loss: 0.5896 - val_acc: 0.6950\n",
            "Epoch 11/30\n",
            "100/100 [==============================] - 181s 2s/step - loss: 0.3089 - acc: 0.8766 - val_loss: 0.9214 - val_acc: 0.5850\n",
            "Epoch 12/30\n",
            "100/100 [==============================] - 181s 2s/step - loss: 0.3091 - acc: 0.8744 - val_loss: 0.6485 - val_acc: 0.7750\n",
            "Epoch 13/30\n",
            "100/100 [==============================] - 180s 2s/step - loss: 0.2677 - acc: 0.8984 - val_loss: 0.7262 - val_acc: 0.7150\n",
            "Epoch 14/30\n",
            "100/100 [==============================] - 180s 2s/step - loss: 0.2153 - acc: 0.9178 - val_loss: 0.5431 - val_acc: 0.7250\n",
            "Epoch 15/30\n",
            "100/100 [==============================] - 180s 2s/step - loss: 0.1984 - acc: 0.9291 - val_loss: 0.7330 - val_acc: 0.6600\n",
            "Epoch 16/30\n",
            "100/100 [==============================] - 181s 2s/step - loss: 0.1702 - acc: 0.9414 - val_loss: 0.8329 - val_acc: 0.6800\n",
            "Epoch 17/30\n",
            "100/100 [==============================] - 180s 2s/step - loss: 0.1438 - acc: 0.9549 - val_loss: 0.8561 - val_acc: 0.6850\n",
            "Epoch 18/30\n",
            "100/100 [==============================] - 181s 2s/step - loss: 0.1362 - acc: 0.9574 - val_loss: 0.7401 - val_acc: 0.7400\n",
            "Epoch 19/30\n",
            "100/100 [==============================] - 180s 2s/step - loss: 0.0969 - acc: 0.9753 - val_loss: 0.8271 - val_acc: 0.7050\n",
            "Epoch 20/30\n",
            "100/100 [==============================] - 179s 2s/step - loss: 0.0796 - acc: 0.9784 - val_loss: 0.9241 - val_acc: 0.7150\n",
            "Epoch 21/30\n",
            "100/100 [==============================] - 179s 2s/step - loss: 0.0856 - acc: 0.9741 - val_loss: 0.8683 - val_acc: 0.7500\n",
            "Epoch 22/30\n",
            "100/100 [==============================] - 178s 2s/step - loss: 0.0700 - acc: 0.9803 - val_loss: 1.4227 - val_acc: 0.7050\n",
            "Epoch 23/30\n",
            "100/100 [==============================] - 175s 2s/step - loss: 0.0597 - acc: 0.9831 - val_loss: 1.0916 - val_acc: 0.7350\n",
            "Epoch 24/30\n",
            "100/100 [==============================] - 178s 2s/step - loss: 0.0543 - acc: 0.9860 - val_loss: 1.2107 - val_acc: 0.6850\n",
            "Epoch 25/30\n",
            "100/100 [==============================] - 180s 2s/step - loss: 0.0312 - acc: 0.9923 - val_loss: 1.2682 - val_acc: 0.6850\n",
            "Epoch 26/30\n",
            "100/100 [==============================] - 179s 2s/step - loss: 0.0313 - acc: 0.9927 - val_loss: 1.3276 - val_acc: 0.6900\n",
            "Epoch 27/30\n",
            "100/100 [==============================] - 180s 2s/step - loss: 0.0299 - acc: 0.9930 - val_loss: 1.2062 - val_acc: 0.6900\n",
            "Epoch 28/30\n",
            "100/100 [==============================] - 180s 2s/step - loss: 0.0149 - acc: 0.9979 - val_loss: 1.1139 - val_acc: 0.7500\n",
            "Epoch 29/30\n",
            "100/100 [==============================] - 179s 2s/step - loss: 0.0177 - acc: 0.9952 - val_loss: 1.3065 - val_acc: 0.7400\n",
            "Epoch 30/30\n",
            "100/100 [==============================] - 179s 2s/step - loss: 0.0309 - acc: 0.9901 - val_loss: 1.3076 - val_acc: 0.7350\n"
          ],
          "name": "stdout"
        }
      ]
    },
    {
      "cell_type": "code",
      "metadata": {
        "colab": {
          "base_uri": "https://localhost:8080/",
          "height": 545
        },
        "id": "miyjfxLFA-LP",
        "outputId": "a6f83c93-f322-4435-f0eb-1c5579109091"
      },
      "source": [
        "model.save('cats_and_dogs_small_1.h5')\n",
        "\n",
        "import matplotlib.pyplot as plt\n",
        "\n",
        "acc = history.history['acc']\n",
        "val_acc = history.history['val_acc']\n",
        "loss = history.history['loss']\n",
        "val_loss = history.history['val_loss']\n",
        "\n",
        "epochs = range(1, len(acc) + 1)\n",
        "\n",
        "plt.plot(epochs, acc, 'bo', label='Training acc')\n",
        "plt.plot(epochs, val_acc, 'b', label='Validation acc')\n",
        "plt.title('Training and validation accuracy')\n",
        "plt.legend()\n",
        "\n",
        "plt.figure()\n",
        "\n",
        "plt.plot(epochs, loss, 'bo', label='Training loss')\n",
        "plt.plot(epochs, val_loss, 'b', label='Validation loss')\n",
        "plt.title('Training and validation loss')\n",
        "plt.legend()\n",
        "\n",
        "plt.show()"
      ],
      "execution_count": 12,
      "outputs": [
        {
          "output_type": "display_data",
          "data": {
            "image/png": "[encoded data removed]",
            "text/plain": [
              "<Figure size 432x288 with 1 Axes>"
            ]
          },
          "metadata": {
            "tags": [],
            "needs_background": "light"
          }
        },
        {
          "output_type": "display_data",
          "data": {
            "image/png": "[encoded data removed]",
            "text/plain": [
              "<Figure size 432x288 with 1 Axes>"
            ]
          },
          "metadata": {
            "tags": [],
            "needs_background": "light"
          }
        }
      ]
    }
  ]
}