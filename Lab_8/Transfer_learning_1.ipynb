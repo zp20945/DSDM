{
  "nbformat": 4,
  "nbformat_minor": 0,
  "metadata": {
    "colab": {
      "name": "Transfer_learning_1.ipynb",
      "provenance": [],
      "authorship_tag": "ABX9TyP2ERannhs8enMuv9Xo6ZCd",
      "include_colab_link": true
    },
    "kernelspec": {
      "name": "python3",
      "display_name": "Python 3"
    },
    "language_info": {
      "name": "python"
    }
  },
  "cells": [
    {
      "cell_type": "markdown",
      "metadata": {
        "id": "view-in-github",
        "colab_type": "text"
      },
      "source": [
        "<a href=\"https://colab.research.google.com/github/zp20945/DSDM/blob/main/Lab_8/Transfer_learning_1.ipynb\" target=\"_parent\"><img src=\"https://colab.research.google.com/assets/colab-badge.svg\" alt=\"Open In Colab\"/></a>"
      ]
    },
    {
      "cell_type": "code",
      "metadata": {
        "colab": {
          "base_uri": "https://localhost:8080/"
        },
        "id": "tBM3j2G6WtXq",
        "outputId": "0e023d7e-96da-4bcc-a404-1b959bf1e8cd"
      },
      "source": [
        "!git clone \"https://github.com/sagihaider/CE888_2021\""
      ],
      "execution_count": 1,
      "outputs": [
        {
          "output_type": "stream",
          "text": [
            "Cloning into 'CE888_2021'...\n",
            "remote: Enumerating objects: 381, done.\u001b[K\n",
            "remote: Counting objects: 100% (191/191), done.\u001b[K\n",
            "remote: Compressing objects: 100% (172/172), done.\u001b[K\n",
            "remote: Total 381 (delta 120), reused 30 (delta 17), pack-reused 190\u001b[K\n",
            "Receiving objects: 100% (381/381), 20.57 MiB | 29.01 MiB/s, done.\n",
            "Resolving deltas: 100% (190/190), done.\n"
          ],
          "name": "stdout"
        }
      ]
    },
    {
      "cell_type": "code",
      "metadata": {
        "colab": {
          "base_uri": "https://localhost:8080/"
        },
        "id": "uThBJkdBXE4Z",
        "outputId": "8586c185-9f9f-4095-e948-b77ce2b54ead"
      },
      "source": [
        "# Unzip training data\n",
        "from zipfile import ZipFile\n",
        "file_name = \"/content/CE888_2021/Lab_8/data.zip\"\n",
        "with ZipFile(file_name, 'r') as zip:\n",
        "  zip.extractall()\n",
        "  print('done')\n"
      ],
      "execution_count": 2,
      "outputs": [
        {
          "output_type": "stream",
          "text": [
            "done\n"
          ],
          "name": "stdout"
        }
      ]
    },
    {
      "cell_type": "code",
      "metadata": {
        "colab": {
          "base_uri": "https://localhost:8080/"
        },
        "id": "ZARmgFTkXLJJ",
        "outputId": "fa83d56c-6607-4e65-bef2-61b19e81c93d"
      },
      "source": [
        "import os\n",
        "# Get all the paths\n",
        "data_dir_list = os.listdir('/content/data/')\n",
        "print(data_dir_list)\n",
        "path, dirs, files = next(os.walk(\"/content/data/dogs\"))\n",
        "file_count = len(files)\n",
        "print(file_count)"
      ],
      "execution_count": 3,
      "outputs": [
        {
          "output_type": "stream",
          "text": [
            "['Humans', 'dogs', 'cats', 'horses']\n",
            "202\n"
          ],
          "name": "stdout"
        }
      ]
    },
    {
      "cell_type": "code",
      "metadata": {
        "id": "mkzMIbbaYvX4"
      },
      "source": [
        "# Make new base directory\n",
        "original_dataset_dir = '/content/data'\n",
        "dir1 = '/content/data/cat'\n",
        "base_dir1 = '/content/trail_data_folder/cat'\n",
        "base_dir = '/content/train_data_folder'\n",
        "os.mkdir(base_dir)"
      ],
      "execution_count": 4,
      "outputs": []
    },
    {
      "cell_type": "code",
      "metadata": {
        "id": "c0YCmmw8Z5t6"
      },
      "source": [
        ""
      ],
      "execution_count": 4,
      "outputs": []
    },
    {
      "cell_type": "code",
      "metadata": {
        "id": "zEws8t87ZDze"
      },
      "source": [
        "train_dir = os.path.join(base_dir, 'train')\n",
        "os.mkdir(train_dir)\n",
        "\n",
        "cats = os.path.join(train_dir, 'cats')\n",
        "os.mkdir(cats)\n",
        "\n",
        "dogs = os.path.join(train_dir, 'dogs')\n",
        "os.mkdir(dogs)\n",
        "\n",
        "humans = os.path.join(train_dir, 'Humans')\n",
        "os.mkdir(humans)\n",
        "\n",
        "horses = os.path.join(train_dir, 'horses')\n",
        "os.mkdir(horses)\n",
        "\n",
        "\n",
        "#test_dir = os.path.join(base_dir, 'test')\n",
        "#os.mkdir(test_dir)"
      ],
      "execution_count": 5,
      "outputs": []
    },
    {
      "cell_type": "code",
      "metadata": {
        "id": "omv_7vkmAJ7N"
      },
      "source": [
        "validation_dir = os.path.join(base_dir, 'validation')\n",
        "os.mkdir(validation_dir)\n",
        "\n",
        "cats = os.path.join(validation_dir, 'cats')\n",
        "os.mkdir(cats)\n",
        "\n",
        "dogs = os.path.join(validation_dir, 'dogs')\n",
        "os.mkdir(dogs)\n",
        "\n",
        "humans = os.path.join(validation_dir, 'Humans')\n",
        "os.mkdir(humans)\n",
        "\n",
        "horses = os.path.join(validation_dir, 'horses')\n",
        "os.mkdir(horses)\n",
        "\n"
      ],
      "execution_count": 6,
      "outputs": []
    },
    {
      "cell_type": "code",
      "metadata": {
        "id": "mTX0MNkRATl1"
      },
      "source": [
        "test_dir = os.path.join(base_dir, 'test')\n",
        "os.mkdir(test_dir)\n",
        "\n",
        "cats = os.path.join(test_dir, 'cats')\n",
        "os.mkdir(cats)\n",
        "\n",
        "dogs = os.path.join(test_dir, 'dogs')\n",
        "os.mkdir(dogs)\n",
        "\n",
        "humans = os.path.join(test_dir, 'Humans')\n",
        "os.mkdir(humans)\n",
        "\n",
        "horses = os.path.join(test_dir, 'horses')\n",
        "os.mkdir(horses)\n",
        "\n",
        "\n"
      ],
      "execution_count": 7,
      "outputs": []
    },
    {
      "cell_type": "code",
      "metadata": {
        "id": "OBaui0eCvrh3"
      },
      "source": [
        "\n",
        "import glob\n",
        "import shutil\n",
        "#import os\n",
        "\n",
        "\n",
        "fnames = ['cat.{}.jpg'.format(i) for i in range(1, 140)]\n",
        "for fname in fnames:\n",
        "    src = os.path.join(\"/content/data/cats\", fname)\n",
        "    dst = os.path.join(\"/content/train_data_folder/train/cats\", fname)\n",
        "    #print(src,dst)\n",
        "    shutil.copyfile(src, dst)\n",
        "\n",
        "fnames = ['dog.{}.jpg'.format(i) for i in range(1, 140)]\n",
        "for fname in fnames:\n",
        "    src = os.path.join(\"/content/data/dogs\", fname)\n",
        "    dst = os.path.join(\"/content/train_data_folder/train/dogs\", fname)\n",
        "    #print(src,dst)\n",
        "    shutil.copyfile(src, dst)\n",
        "\n",
        "fnames = ['rider-{}.jpg'.format(i) for i in range(1, 140)]\n",
        "for fname in fnames:\n",
        "    src = os.path.join(\"/content/data/Humans\", fname)\n",
        "    dst = os.path.join(\"/content/train_data_folder/train/Humans\", fname)\n",
        "    #print(src,dst)\n",
        "    shutil.copyfile(src, dst)\n",
        "\n",
        "fnames = ['horse-{}.jpg'.format(i) for i in range(1, 140)]\n",
        "for fname in fnames:\n",
        "    src = os.path.join(\"/content/data/horses\", fname)\n",
        "    dst = os.path.join(\"/content/train_data_folder/train/horses\", fname)\n",
        "    #print(src,dst)\n",
        "    shutil.copyfile(src, dst)\n"
      ],
      "execution_count": 8,
      "outputs": []
    },
    {
      "cell_type": "code",
      "metadata": {
        "id": "t3c10lv3Fgm3"
      },
      "source": [
        "fnames = ['cat.{}.jpg'.format(i) for i in range(141, 171)]\n",
        "for fname in fnames:\n",
        "    src = os.path.join(\"/content/data/cats\", fname)\n",
        "    dst = os.path.join(\"/content/train_data_folder/validation/cats\", fname)\n",
        "    #print(src,dst)\n",
        "    shutil.copyfile(src, dst)\n",
        "\n",
        "fnames = ['dog.{}.jpg'.format(i) for i in range(141, 171)]\n",
        "for fname in fnames:\n",
        "    src = os.path.join(\"/content/data/dogs\", fname)\n",
        "    dst = os.path.join(\"/content/train_data_folder/validation/dogs\", fname)\n",
        "    #print(src,dst)\n",
        "    shutil.copyfile(src, dst)\n",
        "\n",
        "fnames = ['rider-{}.jpg'.format(i) for i in range(141, 171)]\n",
        "for fname in fnames:\n",
        "    src = os.path.join(\"/content/data/Humans\", fname)\n",
        "    dst = os.path.join(\"/content/train_data_folder/validation/Humans\", fname)\n",
        "    #print(src,dst)\n",
        "    shutil.copyfile(src, dst)\n",
        "\n",
        "fnames = ['horse-{}.jpg'.format(i) for i in range(141, 171)]\n",
        "for fname in fnames:\n",
        "    src = os.path.join(\"/content/data/horses\", fname)\n",
        "    dst = os.path.join(\"/content/train_data_folder/validation/horses\", fname)\n",
        "    #print(src,dst)\n",
        "    shutil.copyfile(src, dst)\n"
      ],
      "execution_count": 9,
      "outputs": []
    },
    {
      "cell_type": "code",
      "metadata": {
        "id": "S95Fr8AgF4lP"
      },
      "source": [
        "fnames = ['cat.{}.jpg'.format(i) for i in range(172, 202)]\n",
        "for fname in fnames:\n",
        "    src = os.path.join(\"/content/data/cats\", fname)\n",
        "    dst = os.path.join(\"/content/train_data_folder/test/cats\", fname)\n",
        "    #print(src,dst)\n",
        "    shutil.copyfile(src, dst)\n",
        "\n",
        "fnames = ['dog.{}.jpg'.format(i) for i in range(172, 202)]\n",
        "for fname in fnames:\n",
        "    src = os.path.join(\"/content/data/dogs\", fname)\n",
        "    dst = os.path.join(\"/content/train_data_folder/test/dogs\", fname)\n",
        "    #print(src,dst)\n",
        "    shutil.copyfile(src, dst)\n",
        "\n",
        "fnames = ['rider-{}.jpg'.format(i) for i in range(172, 202)]\n",
        "for fname in fnames:\n",
        "    src = os.path.join(\"/content/data/Humans\", fname)\n",
        "    dst = os.path.join(\"/content/train_data_folder/test/Humans\", fname)\n",
        "    #print(src,dst)\n",
        "    shutil.copyfile(src, dst)\n",
        "\n",
        "fnames = ['horse-{}.jpg'.format(i) for i in range(172, 202)]\n",
        "for fname in fnames:\n",
        "    src = os.path.join(\"/content/data/horses\", fname)\n",
        "    dst = os.path.join(\"/content/train_data_folder/test/horses\", fname)\n",
        "    #print(src,dst)\n",
        "    shutil.copyfile(src, dst)\n"
      ],
      "execution_count": 10,
      "outputs": []
    },
    {
      "cell_type": "code",
      "metadata": {
        "id": "-JIKBNmcIJc2"
      },
      "source": [
        ""
      ],
      "execution_count": 10,
      "outputs": []
    },
    {
      "cell_type": "code",
      "metadata": {
        "id": "PrlwNCElHf9x"
      },
      "source": [
        ""
      ],
      "execution_count": 10,
      "outputs": []
    },
    {
      "cell_type": "code",
      "metadata": {
        "id": "RInlv6VHICb1"
      },
      "source": [
        ""
      ],
      "execution_count": 10,
      "outputs": []
    },
    {
      "cell_type": "code",
      "metadata": {
        "id": "WpgS8oPTZIft"
      },
      "source": [
        "import cv2\n",
        "labels = ['Humans', 'cats', 'dogs', 'horses']\n",
        "img_size = 224\n",
        "def get_data(data_dir):\n",
        "    data = [] \n",
        "    for label in labels: \n",
        "        path = os.path.join(data_dir, label)\n",
        "        class_num = labels.index(label)\n",
        "        for img in os.listdir(path):\n",
        "            try:\n",
        "                img_arr = cv2.imread(os.path.join(path, img))[...,::-1] #convert BGR to RGB format\n",
        "                resized_arr = cv2.resize(img_arr, (img_size, img_size)) # Reshaping images to preferred size\n",
        "                data.append([resized_arr, class_num])\n",
        "            except Exception as e:\n",
        "                print(e)\n",
        "    return np.array(data)"
      ],
      "execution_count": 11,
      "outputs": []
    },
    {
      "cell_type": "code",
      "metadata": {
        "colab": {
          "base_uri": "https://localhost:8080/"
        },
        "id": "0ful5nsnHnI8",
        "outputId": "cd4b0fca-36be-4d19-9915-ae162ff71bb3"
      },
      "source": [
        "import numpy as np\n",
        "\n",
        "train = get_data('/content/train_data_folder/train')\n",
        "validation = get_data('/content/train_data_folder/validation')\n",
        "test = get_data('/content/train_data_folder/test')"
      ],
      "execution_count": 12,
      "outputs": [
        {
          "output_type": "stream",
          "text": [
            "/usr/local/lib/python3.7/dist-packages/ipykernel_launcher.py:16: VisibleDeprecationWarning: Creating an ndarray from ragged nested sequences (which is a list-or-tuple of lists-or-tuples-or ndarrays with different lengths or shapes) is deprecated. If you meant to do this, you must specify 'dtype=object' when creating the ndarray\n",
            "  app.launch_new_instance()\n"
          ],
          "name": "stderr"
        }
      ]
    },
    {
      "cell_type": "code",
      "metadata": {
        "colab": {
          "base_uri": "https://localhost:8080/"
        },
        "id": "y0G_ShKIJoIq",
        "outputId": "fc51e31d-43ac-421a-8dda-97ff09d672f5"
      },
      "source": [
        "from keras.preprocessing.image import ImageDataGenerator\n",
        "\n",
        "train_datagen = ImageDataGenerator(rescale=1./255)\n",
        "test_datagen = ImageDataGenerator(rescale=1./255)\n",
        "\n",
        "train_generator = train_datagen.flow_from_directory('/content/train_data_folder/train',\n",
        "                                                    target_size=(224, 224), \n",
        "                                                    batch_size=20,\n",
        "                                                    class_mode='binary')\n",
        "\n",
        "validation_generator = test_datagen.flow_from_directory('/content/train_data_folder/validation',\n",
        "                                                        target_size=(224, 224),\n",
        "                                                        batch_size=20,\n",
        "                                                        class_mode='binary')\n",
        "\n",
        "validation_generator = test_datagen.flow_from_directory('/content/train_data_folder/test',\n",
        "                                                        target_size=(224, 224),\n",
        "                                                        batch_size=20,\n",
        "                                                        class_mode='binary')"
      ],
      "execution_count": 13,
      "outputs": [
        {
          "output_type": "stream",
          "text": [
            "Found 556 images belonging to 4 classes.\n",
            "Found 120 images belonging to 4 classes.\n",
            "Found 120 images belonging to 4 classes.\n"
          ],
          "name": "stdout"
        }
      ]
    },
    {
      "cell_type": "code",
      "metadata": {
        "id": "fgicssKILok4"
      },
      "source": [
        "import tensorflow as tf"
      ],
      "execution_count": 14,
      "outputs": []
    },
    {
      "cell_type": "code",
      "metadata": {
        "id": "6GRom1HGGDi3"
      },
      "source": [
        "from tensorflow import keras"
      ],
      "execution_count": 18,
      "outputs": []
    },
    {
      "cell_type": "code",
      "metadata": {
        "colab": {
          "base_uri": "https://localhost:8080/"
        },
        "id": "IzMjiBXkMRCF",
        "outputId": "5c8de607-4d1d-4235-a78d-e80f5d471fd4"
      },
      "source": [
        "layer = keras.layers.Dense(3)\n",
        "layer.build((None, 4))  # Create the weights\n",
        "\n",
        "print(\"weights:\", len(layer.weights))\n",
        "print(\"trainable_weights:\", len(layer.trainable_weights))\n",
        "print(\"non_trainable_weights:\", len(layer.non_trainable_weights))"
      ],
      "execution_count": 19,
      "outputs": [
        {
          "output_type": "stream",
          "text": [
            "weights: 2\n",
            "trainable_weights: 2\n",
            "non_trainable_weights: 0\n"
          ],
          "name": "stdout"
        }
      ]
    },
    {
      "cell_type": "code",
      "metadata": {
        "colab": {
          "base_uri": "https://localhost:8080/"
        },
        "id": "nTvLqBWdMZSQ",
        "outputId": "e39691ba-7171-4f96-d490-ae607eeb08a2"
      },
      "source": [
        "\n",
        "layer = keras.layers.BatchNormalization()\n",
        "layer.build((None, 4))  # Create the weights\n",
        "\n",
        "print(\"weights:\", len(layer.weights))\n",
        "print(\"trainable_weights:\", len(layer.trainable_weights))\n",
        "print(\"non_trainable_weights:\", len(layer.non_trainable_weights))"
      ],
      "execution_count": 20,
      "outputs": [
        {
          "output_type": "stream",
          "text": [
            "weights: 4\n",
            "trainable_weights: 2\n",
            "non_trainable_weights: 2\n"
          ],
          "name": "stdout"
        }
      ]
    },
    {
      "cell_type": "code",
      "metadata": {
        "colab": {
          "base_uri": "https://localhost:8080/"
        },
        "id": "da2A-0cNHGzh",
        "outputId": "212f8ade-3be5-4ed4-c927-b03596631cb7"
      },
      "source": [
        "layer = keras.layers.Dense(3)\n",
        "layer.build((None, 4))  # Create the weights\n",
        "layer.trainable = False  # Freeze the layer\n",
        "\n",
        "print(\"weights:\", len(layer.weights))\n",
        "print(\"trainable_weights:\", len(layer.trainable_weights))\n",
        "print(\"non_trainable_weights:\", len(layer.non_trainable_weights))"
      ],
      "execution_count": 21,
      "outputs": [
        {
          "output_type": "stream",
          "text": [
            "weights: 2\n",
            "trainable_weights: 0\n",
            "non_trainable_weights: 2\n"
          ],
          "name": "stdout"
        }
      ]
    },
    {
      "cell_type": "code",
      "metadata": {
        "colab": {
          "base_uri": "https://localhost:8080/"
        },
        "id": "IV0WGYocHB-g",
        "outputId": "73454a92-0755-4f35-8408-27ca2057c85c"
      },
      "source": [
        "# Make a model with 2 layers\n",
        "layer1 = keras.layers.Dense(3, activation=\"relu\")\n",
        "layer2 = keras.layers.Dense(3, activation=\"sigmoid\")\n",
        "model = keras.Sequential([keras.Input(shape=(3,)), layer1, layer2])\n",
        "\n",
        "# Freeze the first layer\n",
        "layer1.trainable = False\n",
        "\n",
        "# Keep a copy of the weights of layer1 for later reference\n",
        "initial_layer1_weights_values = layer1.get_weights()\n",
        "\n",
        "# Train the model\n",
        "model.compile(optimizer=\"adam\", loss=\"mse\")\n",
        "model.fit(np.random.random((2, 3)), np.random.random((2, 3)))\n",
        "\n",
        "# Check that the weights of layer1 have not changed during training\n",
        "final_layer1_weights_values = layer1.get_weights()\n",
        "np.testing.assert_allclose(\n",
        "    initial_layer1_weights_values[0], final_layer1_weights_values[0]\n",
        ")\n",
        "np.testing.assert_allclose(\n",
        "    initial_layer1_weights_values[1], final_layer1_weights_values[1]\n",
        ")"
      ],
      "execution_count": 22,
      "outputs": [
        {
          "output_type": "stream",
          "text": [
            "1/1 [==============================] - 1s 525ms/step - loss: 0.0688\n"
          ],
          "name": "stdout"
        }
      ]
    },
    {
      "cell_type": "code",
      "metadata": {
        "id": "0sowl2R1HHoo"
      },
      "source": [
        "inner_model = keras.Sequential(\n",
        "    [\n",
        "        keras.Input(shape=(3,)),\n",
        "        keras.layers.Dense(3, activation=\"relu\"),\n",
        "        keras.layers.Dense(3, activation=\"relu\"),\n",
        "    ]\n",
        ")\n",
        "\n",
        "model = keras.Sequential(\n",
        "    [keras.Input(shape=(3,)), inner_model, keras.layers.Dense(3, activation=\"sigmoid\"),]\n",
        ")\n",
        "\n",
        "model.trainable = False  # Freeze the outer model\n",
        "\n",
        "assert inner_model.trainable == False  # All layers in `model` are now frozen\n",
        "assert inner_model.layers[0].trainable == False  # `trainable` is propagated recursively"
      ],
      "execution_count": 23,
      "outputs": []
    },
    {
      "cell_type": "code",
      "metadata": {
        "id": "nh16qNuQHLxG"
      },
      "source": [
        "base_model = keras.applications.Xception(\n",
        "    weights='imagenet',  # Load weights pre-trained on ImageNet.\n",
        "    input_shape=(224, 224, 3),\n",
        "    include_top=False)  # Do not include the ImageNet classifier at the top."
      ],
      "execution_count": 25,
      "outputs": []
    },
    {
      "cell_type": "code",
      "metadata": {
        "id": "ZT8bQlYlHSwH"
      },
      "source": [
        "base_model.trainable = False"
      ],
      "execution_count": 26,
      "outputs": []
    },
    {
      "cell_type": "code",
      "metadata": {
        "id": "M5q1-1l2HV71"
      },
      "source": [
        "inputs = keras.Input(shape=(224, 224, 3))\n",
        "# We make sure that the base_model is running in inference mode here,\n",
        "# by passing `training=False`. This is important for fine-tuning, as you will\n",
        "# learn in a few paragraphs.\n",
        "x = base_model(inputs, training=False)\n",
        "# Convert features of shape `base_model.output_shape[1:]` to vectors\n",
        "x = keras.layers.GlobalAveragePooling2D()(x)\n",
        "# A Dense classifier with a single unit (binary classification)\n",
        "outputs = keras.layers.Dense(1)(x)\n",
        "model = keras.Model(inputs, outputs)"
      ],
      "execution_count": 27,
      "outputs": []
    },
    {
      "cell_type": "code",
      "metadata": {
        "id": "BLoQKt_2HaJe"
      },
      "source": [
        "model.compile(optimizer=keras.optimizers.Adam(),\n",
        "              loss=keras.losses.BinaryCrossentropy(from_logits=True),\n",
        "              metrics=[keras.metrics.BinaryAccuracy()])\n"
      ],
      "execution_count": 28,
      "outputs": []
    },
    {
      "cell_type": "code",
      "metadata": {
        "id": "Jfi7tFp0Hi_Q"
      },
      "source": [
        ""
      ],
      "execution_count": null,
      "outputs": []
    },
    {
      "cell_type": "code",
      "metadata": {
        "id": "cZwgIe4COBw1"
      },
      "source": [
        "from tensorflow.keras.callbacks import EarlyStopping, ModelCheckpoint\n",
        "\n",
        "\n",
        "my_callbacks = [\n",
        "    EarlyStopping(monitor=\"val_binary_accuracy\", patience=10, restore_best_weights=True),\n",
        "    ModelCheckpoint(filepath='/content/train_data_folder/model.h5', save_best_only=True),\n",
        "]"
      ],
      "execution_count": 33,
      "outputs": []
    },
    {
      "cell_type": "code",
      "metadata": {
        "colab": {
          "base_uri": "https://localhost:8080/"
        },
        "id": "tmo1xXIQHgmU",
        "outputId": "7998f8b9-7597-4f21-be5b-501f5b2d28db"
      },
      "source": [
        "model.fit(train_generator, epochs=10, callbacks=my_callbacks, validation_data=validation_generator)"
      ],
      "execution_count": 35,
      "outputs": [
        {
          "output_type": "stream",
          "text": [
            "Epoch 1/10\n",
            "28/28 [==============================] - 136s 5s/step - loss: -77.1076 - binary_accuracy: 0.2500 - val_loss: -76.5147 - val_binary_accuracy: 0.2500\n",
            "Epoch 2/10\n",
            "28/28 [==============================] - 137s 5s/step - loss: -81.6938 - binary_accuracy: 0.2500 - val_loss: -81.0846 - val_binary_accuracy: 0.2500\n",
            "Epoch 3/10\n",
            "28/28 [==============================] - 137s 5s/step - loss: -86.3750 - binary_accuracy: 0.2500 - val_loss: -85.4348 - val_binary_accuracy: 0.2500\n",
            "Epoch 4/10\n",
            "28/28 [==============================] - 137s 5s/step - loss: -90.9419 - binary_accuracy: 0.2500 - val_loss: -89.9437 - val_binary_accuracy: 0.2500\n",
            "Epoch 5/10\n",
            "28/28 [==============================] - 136s 5s/step - loss: -95.6115 - binary_accuracy: 0.2500 - val_loss: -94.3149 - val_binary_accuracy: 0.2500\n",
            "Epoch 6/10\n",
            "28/28 [==============================] - 136s 5s/step - loss: -100.1528 - binary_accuracy: 0.2500 - val_loss: -98.8866 - val_binary_accuracy: 0.2500\n",
            "Epoch 7/10\n",
            "28/28 [==============================] - 136s 5s/step - loss: -104.8648 - binary_accuracy: 0.2500 - val_loss: -103.2344 - val_binary_accuracy: 0.2500\n",
            "Epoch 8/10\n",
            "28/28 [==============================] - 140s 5s/step - loss: -109.5426 - binary_accuracy: 0.2500 - val_loss: -107.4883 - val_binary_accuracy: 0.2500\n",
            "Epoch 9/10\n",
            "28/28 [==============================] - 136s 5s/step - loss: -114.0245 - binary_accuracy: 0.2500 - val_loss: -112.1501 - val_binary_accuracy: 0.2500\n",
            "Epoch 10/10\n",
            "28/28 [==============================] - 136s 5s/step - loss: -118.6602 - binary_accuracy: 0.2500 - val_loss: -116.7874 - val_binary_accuracy: 0.2500\n"
          ],
          "name": "stdout"
        },
        {
          "output_type": "execute_result",
          "data": {
            "text/plain": [
              "<tensorflow.python.keras.callbacks.History at 0x7f7781c91a90>"
            ]
          },
          "metadata": {
            "tags": []
          },
          "execution_count": 35
        }
      ]
    },
    {
      "cell_type": "code",
      "metadata": {
        "id": "c8RFgColOafn"
      },
      "source": [
        "from tensorflow.keras.models import load_model\n",
        "model_fire = load_model('/content/train_data_folder/model.h5')"
      ],
      "execution_count": 36,
      "outputs": []
    },
    {
      "cell_type": "code",
      "metadata": {
        "colab": {
          "base_uri": "https://localhost:8080/"
        },
        "id": "bQxNkJfUZwIZ",
        "outputId": "657c7978-9fca-46f6-89ab-aa75d670c45d"
      },
      "source": [
        "results_eval = model_fire.evaluate(validation_generator, batch_size=20)"
      ],
      "execution_count": 37,
      "outputs": [
        {
          "output_type": "stream",
          "text": [
            "6/6 [==============================] - 25s 4s/step - loss: -116.7874 - binary_accuracy: 0.2500\n"
          ],
          "name": "stdout"
        }
      ]
    }
  ]
}